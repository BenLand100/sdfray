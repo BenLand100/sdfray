{
 "cells": [
  {
   "cell_type": "code",
   "execution_count": 1,
   "id": "14bce95b",
   "metadata": {},
   "outputs": [],
   "source": [
    "from sdfray.light import DistantLight,PointLight,AmbientLight\n",
    "from sdfray.scene import Scene,Camera\n",
    "from sdfray.geom import Union,Intersection,Subtraction\n",
    "from sdfray.shapes import Sphere,Box,Cylinder,Plane\n",
    "from sdfray.surface import UniformSurface,SurfaceProp,CheckerSurface\n",
    "from sdfray.util import *\n",
    "\n",
    "import numpy as np\n",
    "import os"
   ]
  },
  {
   "cell_type": "code",
   "execution_count": 13,
   "id": "d8d0cea2",
   "metadata": {
    "scrolled": true
   },
   "outputs": [],
   "source": [
    "import io\n",
    "import imageio\n",
    "import base64 \n",
    "from IPython.display import HTML\n",
    "\n",
    "def encode_gif(scene,times=np.linspace(0,2*np.pi,300),**kwargs):\n",
    "    output = io.BytesIO()\n",
    "    scene.clear_cache()\n",
    "    with imageio.get_writer(output, format='gif', mode='I', duration='0.05') as writer:\n",
    "        for time in times:\n",
    "            v = scene.render(time=time,true_optics=True,**kwargs)\n",
    "            writer.append_data(np.asarray(v))\n",
    "    output.seek(0)\n",
    "    return output.read()\n",
    "\n",
    "def display_gif(gif):\n",
    "    b64 = base64.b64encode(gif)\n",
    "    display(HTML(f'<img src=\"data:image/gif;base64,{b64.decode()}\"/>'))\n",
    "    \n",
    "def encode_mp4(scene,times=np.linspace(0,2*np.pi,600),fps=60,framedir=None,**kwargs):\n",
    "    try:\n",
    "        os.mkdir(framedir)\n",
    "    except:\n",
    "        pass\n",
    "    output = io.BytesIO()\n",
    "    scene.clear_cache()\n",
    "    with imageio.get_writer(output, format='mp4', mode='I', fps=fps) as writer:\n",
    "        for i,time in enumerate(times):\n",
    "            v = scene.render(time=time,true_optics=True,**kwargs)\n",
    "            if framedir is not None:\n",
    "                v.save(f'{framedir}/frame_{i:05d}.png')\n",
    "            writer.append_data(np.asarray(v))\n",
    "    output.seek(0)\n",
    "    return output.read()\n",
    "\n",
    "def display_mp4(mp4,fname=None):\n",
    "    if fname is None:\n",
    "        b64 = base64.b64encode(mp4)\n",
    "        src = f'data:video/mp4;base64,{b64.decode()}'\n",
    "    else:\n",
    "        with open(fname,'wb') as fout:\n",
    "            fout.write(mp4)\n",
    "        src = fname\n",
    "    display(HTML(f'<video controls loop src=\"{src}\"/>'))"
   ]
  },
  {
   "cell_type": "code",
   "execution_count": 14,
   "id": "4892797d",
   "metadata": {},
   "outputs": [],
   "source": [
    "lights = [\n",
    "    PointLight([50,0,0],[2,2.5,-2]),\n",
    "    PointLight([0,50,0],[-2,2.5,0]),\n",
    "    PointLight([0,0,50],[2,2.5,2])\n",
    "]"
   ]
  },
  {
   "cell_type": "code",
   "execution_count": 15,
   "id": "086c75ea",
   "metadata": {
    "scrolled": true
   },
   "outputs": [
    {
     "data": {
      "text/html": [
       "<video controls loop src=\"test_sphere.mp4\"/>"
      ],
      "text/plain": [
       "<IPython.core.display.HTML object>"
      ]
     },
     "metadata": {},
     "output_type": "display_data"
    }
   ],
   "source": [
    "ctx = Context()\n",
    "t = ctx['u_time']\n",
    "ct = np.cos(t)\n",
    "st = np.sin(t)\n",
    "c = Camera(camera_orig=10*A([st,0,-ct]),camera_yaw=-t,width_px=912,height_px=624)\n",
    "\n",
    "s = Scene(Sphere(),lights,cam=c)\n",
    "\n",
    "display_mp4(encode_mp4(s,passes=25,framedir='test_sphere'),fname='test_sphere.mp4')"
   ]
  },
  {
   "cell_type": "code",
   "execution_count": 17,
   "id": "c47044cb",
   "metadata": {},
   "outputs": [],
   "source": [
    "ctx = Context()\n",
    "t = ctx['u_time']\n",
    "ct = np.cos(t)\n",
    "st = np.sin(t)\n",
    "c = Camera(camera_orig=10*A([st,0,-ct]),camera_yaw=-t,width_px=912,height_px=624)\n",
    "\n",
    "glossy = UniformSurface(SurfaceProp(diffuse=0.2,specular=0.8))\n",
    "clear = UniformSurface(SurfaceProp(diffuse=0.05,specular=0.1,transmit=0.85,refractive_index=1.4))\n",
    "\n",
    "sdf = Sphere(translate=[0,0,0],radius=0.9,surface=glossy)\n",
    "sdf = Union(Box(translate=[-2,0,0],rotate=[0,3*t,2*t],depth=1.5,height=1.5,width=1.5,surface=clear),sdf)\n",
    "sdf = Union(Cylinder(translate=[2,0,0],rotate=[3*t,t,0],radius=0.9,height=1.5,surface=clear),sdf)\n",
    "\n",
    "clear_demo_sdf = Union(sdf,Plane(anchor=[0,-1,0],surface=CheckerSurface(checker_size=0.25)))\n",
    "\n",
    "point_lights = [\n",
    "    PointLight([100,0,0],[2,2.5,-2]),\n",
    "    PointLight([0s,100,0],[-2,2.5,0]),\n",
    "    PointLight([0,0,100],[2,2.5,2])\n",
    "]\n",
    "\n",
    "s = Scene(clear_demo_sdf,point_lights,cam=c)"
   ]
  },
  {
   "cell_type": "code",
   "execution_count": null,
   "id": "7cef811f",
   "metadata": {},
   "outputs": [],
   "source": [
    "display_mp4(encode_mp4(s,passes=10000,framedir='raytrace_10k'),fname='raytrace_10k.mp4')"
   ]
  },
  {
   "cell_type": "code",
   "execution_count": null,
   "id": "c94c17d5",
   "metadata": {},
   "outputs": [],
   "source": [
    "s.clear_cache()\n",
    "s.render(true_optics=True,time=3.14,ang_res=0.02,passes=5000)"
   ]
  },
  {
   "cell_type": "code",
   "execution_count": null,
   "id": "b74a4b98",
   "metadata": {},
   "outputs": [],
   "source": [
    "s.clear_cache()\n",
    "s.render(true_optics=True,time=3.14,ang_res=0.02,passes=10000)"
   ]
  },
  {
   "cell_type": "code",
   "execution_count": null,
   "id": "28fcad14",
   "metadata": {},
   "outputs": [],
   "source": []
  }
 ],
 "metadata": {
  "kernelspec": {
   "display_name": "Python 3 (ipykernel)",
   "language": "python",
   "name": "python3"
  },
  "language_info": {
   "codemirror_mode": {
    "name": "ipython",
    "version": 3
   },
   "file_extension": ".py",
   "mimetype": "text/x-python",
   "name": "python",
   "nbconvert_exporter": "python",
   "pygments_lexer": "ipython3",
   "version": "3.10.6"
  }
 },
 "nbformat": 4,
 "nbformat_minor": 5
}
